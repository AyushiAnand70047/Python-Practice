{
 "cells": [
  {
   "cell_type": "markdown",
   "id": "7183d7ab-e3f4-4afa-9335-d83b993619ca",
   "metadata": {},
   "source": [
    "# Python Data Structures and Boolean\n",
    "- Boolean\n",
    "- Boolean and Logical Operator\n",
    "- Lists\n",
    "- Comparison Operators\n",
    "- Dictionaries\n",
    "- Tuples\n",
    "- Sets"
   ]
  },
  {
   "cell_type": "markdown",
   "id": "7b075d31-7cee-4cae-92ba-0dfb15c3e7e7",
   "metadata": {},
   "source": [
    "### Boolean Variables"
   ]
  },
  {
   "cell_type": "code",
   "execution_count": 1,
   "id": "8662a09f-3ba1-43e4-ab6f-d14b16f55d77",
   "metadata": {},
   "outputs": [
    {
     "data": {
      "text/plain": [
       "False"
      ]
     },
     "execution_count": 1,
     "metadata": {},
     "output_type": "execute_result"
    }
   ],
   "source": [
    "bool()"
   ]
  },
  {
   "cell_type": "code",
   "execution_count": 2,
   "id": "74ac0ec2-8e50-46a0-bba2-abe55f034ee5",
   "metadata": {},
   "outputs": [
    {
     "name": "stdout",
     "output_type": "stream",
     "text": [
      "True False\n"
     ]
    }
   ],
   "source": [
    "print(True, False)"
   ]
  },
  {
   "cell_type": "code",
   "execution_count": 3,
   "id": "142deb60-c244-4692-b258-085637c70f89",
   "metadata": {},
   "outputs": [
    {
     "data": {
      "text/plain": [
       "bool"
      ]
     },
     "execution_count": 3,
     "metadata": {},
     "output_type": "execute_result"
    }
   ],
   "source": [
    "type(True)"
   ]
  },
  {
   "cell_type": "code",
   "execution_count": 4,
   "id": "02af4857-1929-440e-a38e-8abd3dd5a03c",
   "metadata": {},
   "outputs": [],
   "source": [
    "my_str = \"Ayushi Anand\""
   ]
  },
  {
   "cell_type": "code",
   "execution_count": 5,
   "id": "f43f0ca3-846f-4998-8e72-b764e6829225",
   "metadata": {},
   "outputs": [
    {
     "name": "stdout",
     "output_type": "stream",
     "text": [
      "False\n",
      "False\n",
      "False\n",
      "True\n",
      "False\n",
      "False\n",
      "False\n",
      "True\n",
      "True\n"
     ]
    }
   ],
   "source": [
    "print(my_str.isalnum()) # check is all char are numbers\n",
    "print(my_str.isalpha()) # check is all character in the string are alphabetic\n",
    "print(my_str.isdigit()) # test is string contains digit\n",
    "print(my_str.istitle()) # test is string contains title word means first letter is capital\n",
    "print(my_str.isupper()) # test is string all char is in upper case\n",
    "print(my_str.islower()) # test is string all char is in lower case\n",
    "print(my_str.isspace()) # test is string contains spaces only\n",
    "print(my_str.endswith('d')) # test is string ends with d\n",
    "print(my_str.startswith('A')) # test is string starts with A"
   ]
  },
  {
   "cell_type": "markdown",
   "id": "f9153351-fde7-4451-b876-e8942e98d926",
   "metadata": {},
   "source": [
    "### Boolean and Logical Operators"
   ]
  },
  {
   "cell_type": "code",
   "execution_count": 6,
   "id": "858779b9-2914-45c9-add2-fa75889c3c57",
   "metadata": {},
   "outputs": [
    {
     "data": {
      "text/plain": [
       "True"
      ]
     },
     "execution_count": 6,
     "metadata": {},
     "output_type": "execute_result"
    }
   ],
   "source": [
    "True and True"
   ]
  },
  {
   "cell_type": "code",
   "execution_count": 7,
   "id": "331f30b1-0600-4ecd-9050-19b42ad1513f",
   "metadata": {},
   "outputs": [
    {
     "data": {
      "text/plain": [
       "False"
      ]
     },
     "execution_count": 7,
     "metadata": {},
     "output_type": "execute_result"
    }
   ],
   "source": [
    "True and False"
   ]
  },
  {
   "cell_type": "code",
   "execution_count": 8,
   "id": "44740593-568c-493a-a721-20eac79fcc13",
   "metadata": {},
   "outputs": [
    {
     "data": {
      "text/plain": [
       "True"
      ]
     },
     "execution_count": 8,
     "metadata": {},
     "output_type": "execute_result"
    }
   ],
   "source": [
    "True or False"
   ]
  },
  {
   "cell_type": "code",
   "execution_count": 9,
   "id": "1cd8124c-725a-438f-bc9f-e0a9faff83a3",
   "metadata": {},
   "outputs": [
    {
     "data": {
      "text/plain": [
       "True"
      ]
     },
     "execution_count": 9,
     "metadata": {},
     "output_type": "execute_result"
    }
   ],
   "source": [
    "True or True"
   ]
  },
  {
   "cell_type": "code",
   "execution_count": 10,
   "id": "11d19b02-0971-4515-834e-6e65f734fe9f",
   "metadata": {},
   "outputs": [
    {
     "name": "stdout",
     "output_type": "stream",
     "text": [
      "True\n",
      "False\n"
     ]
    }
   ],
   "source": [
    "str1 = \"Ayushi Anand\"\n",
    "str2 = \"Ayushi\"\n",
    "print(str1.isdigit() or str2.isalpha())\n",
    "print(str1.isdigit() and str2.isalpha())"
   ]
  },
  {
   "cell_type": "markdown",
   "id": "58bdf658-0df8-4070-8543-8fbc2b3dba3b",
   "metadata": {},
   "source": [
    "### Lists \n",
    "A list is a data structure in Python that is a mutable, or changeable, ordered sequence of elements. Each element or value that is inside of a list is called an item. Just as strings are defined as characters between quotes, lists are defined by having values between square brackets [ ]"
   ]
  },
  {
   "cell_type": "code",
   "execution_count": 11,
   "id": "d1c2fec5-31dd-4c2d-85bc-f9127e162cae",
   "metadata": {},
   "outputs": [
    {
     "data": {
      "text/plain": [
       "list"
      ]
     },
     "execution_count": 11,
     "metadata": {},
     "output_type": "execute_result"
    }
   ],
   "source": [
    "type([])"
   ]
  },
  {
   "cell_type": "code",
   "execution_count": 12,
   "id": "f334b507-c189-4236-a6ea-88ddf0fa068d",
   "metadata": {},
   "outputs": [
    {
     "data": {
      "text/plain": [
       "list"
      ]
     },
     "execution_count": 12,
     "metadata": {},
     "output_type": "execute_result"
    }
   ],
   "source": [
    "lst = list() # creating empty list using inbuilt function\n",
    "type(lst)"
   ]
  },
  {
   "cell_type": "code",
   "execution_count": 13,
   "id": "ff9437ef-785c-4c17-b2e9-b22e682cfbf2",
   "metadata": {},
   "outputs": [
    {
     "name": "stdout",
     "output_type": "stream",
     "text": [
      "5\n"
     ]
    },
    {
     "data": {
      "text/plain": [
       "list"
      ]
     },
     "execution_count": 13,
     "metadata": {},
     "output_type": "execute_result"
    }
   ],
   "source": [
    "lst = ['Mathematics', 'Python', 100, 200, 300]\n",
    "print(len(lst))\n",
    "type(lst)"
   ]
  },
  {
   "cell_type": "markdown",
   "id": "a25b471c-13c2-40d5-886e-cc40dfe2bc1a",
   "metadata": {},
   "source": [
    "### Append\n",
    "append is use to add elements in the list"
   ]
  },
  {
   "cell_type": "code",
   "execution_count": 14,
   "id": "8aeda415-1f01-448e-97b5-401f43b7dd63",
   "metadata": {},
   "outputs": [
    {
     "data": {
      "text/plain": [
       "['Mathematics', 'Python', 100, 200, 300, 'ML']"
      ]
     },
     "execution_count": 14,
     "metadata": {},
     "output_type": "execute_result"
    }
   ],
   "source": [
    "lst.append(\"ML\")\n",
    "lst"
   ]
  },
  {
   "cell_type": "markdown",
   "id": "461b389b-530b-49a0-87b9-d1cefe113659",
   "metadata": {},
   "source": [
    "### Insert\n",
    "insert element in specific order"
   ]
  },
  {
   "cell_type": "code",
   "execution_count": 15,
   "id": "754414ea-1779-45a4-a743-f4fb009f010b",
   "metadata": {},
   "outputs": [
    {
     "data": {
      "text/plain": [
       "['Mathematics', 'DSA', 'Python', 100, 200, 300, 'ML']"
      ]
     },
     "execution_count": 15,
     "metadata": {},
     "output_type": "execute_result"
    }
   ],
   "source": [
    "lst.insert(1,\"DSA\")\n",
    "lst"
   ]
  },
  {
   "cell_type": "code",
   "execution_count": 16,
   "id": "ab7d13ef-1411-474f-97b0-7e9ce0505cf1",
   "metadata": {},
   "outputs": [
    {
     "data": {
      "text/plain": [
       "['Mathematics', 'DSA', 'Python', 100, 200, 300, 'ML']"
      ]
     },
     "execution_count": 16,
     "metadata": {},
     "output_type": "execute_result"
    }
   ],
   "source": [
    "lst[:]"
   ]
  },
  {
   "cell_type": "code",
   "execution_count": 17,
   "id": "d2630a60-3738-4631-b82f-a509561c0621",
   "metadata": {},
   "outputs": [
    {
     "data": {
      "text/plain": [
       "['DSA', 'Python', 100, 200, 300, 'ML']"
      ]
     },
     "execution_count": 17,
     "metadata": {},
     "output_type": "execute_result"
    }
   ],
   "source": [
    "lst[1:]"
   ]
  },
  {
   "cell_type": "code",
   "execution_count": 18,
   "id": "92ab58ad-1357-4748-adfb-49e9e90859cf",
   "metadata": {},
   "outputs": [
    {
     "data": {
      "text/plain": [
       "'ML'"
      ]
     },
     "execution_count": 18,
     "metadata": {},
     "output_type": "execute_result"
    }
   ],
   "source": [
    "lst[6]"
   ]
  },
  {
   "cell_type": "code",
   "execution_count": 19,
   "id": "b4171d23-4759-46ab-a48f-30e03385fce9",
   "metadata": {},
   "outputs": [
    {
     "data": {
      "text/plain": [
       "['DSA', 'Python', 100, 200, 300]"
      ]
     },
     "execution_count": 19,
     "metadata": {},
     "output_type": "execute_result"
    }
   ],
   "source": [
    "lst[1:6]"
   ]
  },
  {
   "cell_type": "code",
   "execution_count": 20,
   "id": "707e83de-ce7d-48da-89e1-cb8271b33611",
   "metadata": {},
   "outputs": [
    {
     "data": {
      "text/plain": [
       "['Mathematics', 'DSA', 'Python', 100, 200, 300]"
      ]
     },
     "execution_count": 20,
     "metadata": {},
     "output_type": "execute_result"
    }
   ],
   "source": [
    "lst[:6]"
   ]
  },
  {
   "cell_type": "code",
   "execution_count": 21,
   "id": "7c2de9bf-9298-40f2-85d5-a91302623591",
   "metadata": {},
   "outputs": [
    {
     "data": {
      "text/plain": [
       "['Mathematics', 'DSA', 'Python', 100, 200, 300, 'ML', ['PHP', 'Laravel']]"
      ]
     },
     "execution_count": 21,
     "metadata": {},
     "output_type": "execute_result"
    }
   ],
   "source": [
    "lst.append([\"PHP\",\"Laravel\"])\n",
    "lst"
   ]
  },
  {
   "cell_type": "markdown",
   "id": "3ac01a16-a0ab-4e6d-b4f6-137985f0c7d1",
   "metadata": {},
   "source": [
    "### Extend Method"
   ]
  },
  {
   "cell_type": "code",
   "execution_count": 22,
   "id": "3b9841a3-7ef4-41b5-9ca2-7c3f8cf1acd0",
   "metadata": {},
   "outputs": [],
   "source": [
    "lst.extend([\"React Js\",\"Node Js\"])"
   ]
  },
  {
   "cell_type": "code",
   "execution_count": 23,
   "id": "8cb8725d-88ab-4a76-aac6-878c9b696154",
   "metadata": {},
   "outputs": [
    {
     "data": {
      "text/plain": [
       "['Mathematics',\n",
       " 'DSA',\n",
       " 'Python',\n",
       " 100,\n",
       " 200,\n",
       " 300,\n",
       " 'ML',\n",
       " ['PHP', 'Laravel'],\n",
       " 'React Js',\n",
       " 'Node Js']"
      ]
     },
     "execution_count": 23,
     "metadata": {},
     "output_type": "execute_result"
    }
   ],
   "source": [
    "lst"
   ]
  },
  {
   "cell_type": "markdown",
   "id": "829fe054-6967-411e-b7a7-771aeeea82bd",
   "metadata": {},
   "source": [
    "### Various operations that we can perform in list"
   ]
  },
  {
   "cell_type": "markdown",
   "id": "32890b07-5a99-4549-83ac-d05bcfe21209",
   "metadata": {},
   "source": [
    "#### Pop() Method"
   ]
  },
  {
   "cell_type": "code",
   "execution_count": 24,
   "id": "420e4bfc-5d44-436c-abfe-1fc0e3442d59",
   "metadata": {},
   "outputs": [
    {
     "data": {
      "text/plain": [
       "15"
      ]
     },
     "execution_count": 24,
     "metadata": {},
     "output_type": "execute_result"
    }
   ],
   "source": [
    "lst = [1,2,3,4,5]\n",
    "sum(lst)"
   ]
  },
  {
   "cell_type": "code",
   "execution_count": 34,
   "id": "576afb7e-7547-4329-b434-63fe49c65a9b",
   "metadata": {},
   "outputs": [
    {
     "data": {
      "text/plain": [
       "[1, 2, 3, 4, 5, 1, 2, 3, 4, 5, 1, 2, 3, 4, 5]"
      ]
     },
     "execution_count": 34,
     "metadata": {},
     "output_type": "execute_result"
    }
   ],
   "source": [
    "lst1 = [1,2,3,4,5]\n",
    "lst1 * 3"
   ]
  },
  {
   "cell_type": "code",
   "execution_count": 25,
   "id": "f6d903e5-8b06-4cec-b699-3e4883f505a4",
   "metadata": {},
   "outputs": [
    {
     "data": {
      "text/plain": [
       "5"
      ]
     },
     "execution_count": 25,
     "metadata": {},
     "output_type": "execute_result"
    }
   ],
   "source": [
    "lst.pop()"
   ]
  },
  {
   "cell_type": "code",
   "execution_count": 26,
   "id": "35dfa2f6-b267-464c-85d7-773ef28cec97",
   "metadata": {},
   "outputs": [
    {
     "data": {
      "text/plain": [
       "[1, 2, 3, 4]"
      ]
     },
     "execution_count": 26,
     "metadata": {},
     "output_type": "execute_result"
    }
   ],
   "source": [
    "lst"
   ]
  },
  {
   "cell_type": "code",
   "execution_count": 27,
   "id": "194ba0d5-3c43-4d00-9453-5eb80465605f",
   "metadata": {},
   "outputs": [
    {
     "data": {
      "text/plain": [
       "2"
      ]
     },
     "execution_count": 27,
     "metadata": {},
     "output_type": "execute_result"
    }
   ],
   "source": [
    "lst.pop(1)"
   ]
  },
  {
   "cell_type": "code",
   "execution_count": 28,
   "id": "85f47f61-8368-4b6c-853e-fc279da65400",
   "metadata": {},
   "outputs": [
    {
     "data": {
      "text/plain": [
       "[1, 3, 4]"
      ]
     },
     "execution_count": 28,
     "metadata": {},
     "output_type": "execute_result"
    }
   ],
   "source": [
    "lst"
   ]
  },
  {
   "cell_type": "markdown",
   "id": "9c9629f7-f6c9-4a69-9c55-20f65d2f992a",
   "metadata": {},
   "source": [
    "#### count(): Calculates total occurrence of given element of List"
   ]
  },
  {
   "cell_type": "code",
   "execution_count": 29,
   "id": "59120ddf-77a4-44c1-9f43-b4f28006d71e",
   "metadata": {},
   "outputs": [
    {
     "data": {
      "text/plain": [
       "4"
      ]
     },
     "execution_count": 29,
     "metadata": {},
     "output_type": "execute_result"
    }
   ],
   "source": [
    "lst = [1,2,1,1,3,4,5,1,5]\n",
    "lst.count(1)"
   ]
  },
  {
   "cell_type": "code",
   "execution_count": 30,
   "id": "c6eb945a-600c-4123-942b-20475769ccc6",
   "metadata": {},
   "outputs": [
    {
     "data": {
      "text/plain": [
       "9"
      ]
     },
     "execution_count": 30,
     "metadata": {},
     "output_type": "execute_result"
    }
   ],
   "source": [
    "# len(): calculates total length of list\n",
    "len(lst)"
   ]
  },
  {
   "cell_type": "code",
   "execution_count": 31,
   "id": "5e140bf9-f97c-45d1-9fd2-93ed08767dc1",
   "metadata": {},
   "outputs": [
    {
     "data": {
      "text/plain": [
       "0"
      ]
     },
     "execution_count": 31,
     "metadata": {},
     "output_type": "execute_result"
    }
   ],
   "source": [
    "# index(): returns the index of first occurrence of an item in the list.\n",
    "lst.index(1)"
   ]
  },
  {
   "cell_type": "code",
   "execution_count": 32,
   "id": "a90ed6ff-4065-4250-82a1-628b2f922998",
   "metadata": {},
   "outputs": [
    {
     "data": {
      "text/plain": [
       "2"
      ]
     },
     "execution_count": 32,
     "metadata": {},
     "output_type": "execute_result"
    }
   ],
   "source": [
    "lst.index(1,1,4)"
   ]
  },
  {
   "cell_type": "code",
   "execution_count": 33,
   "id": "eaeb8c3e-637f-494a-8d70-59fc8573c3d2",
   "metadata": {},
   "outputs": [
    {
     "data": {
      "text/plain": [
       "5"
      ]
     },
     "execution_count": 33,
     "metadata": {},
     "output_type": "execute_result"
    }
   ],
   "source": [
    "max(lst)"
   ]
  }
 ],
 "metadata": {
  "kernelspec": {
   "display_name": "Python 3 (ipykernel)",
   "language": "python",
   "name": "python3"
  },
  "language_info": {
   "codemirror_mode": {
    "name": "ipython",
    "version": 3
   },
   "file_extension": ".py",
   "mimetype": "text/x-python",
   "name": "python",
   "nbconvert_exporter": "python",
   "pygments_lexer": "ipython3",
   "version": "3.12.7"
  }
 },
 "nbformat": 4,
 "nbformat_minor": 5
}
