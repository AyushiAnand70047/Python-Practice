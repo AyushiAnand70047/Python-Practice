{
 "cells": [
  {
   "cell_type": "markdown",
   "id": "db61e85c-e12e-4b47-85dd-e5bdab977370",
   "metadata": {},
   "source": [
    "## SETS\n",
    "A set is an unordered collection data type that is iterable, mutable, and has no duplicate elements."
   ]
  },
  {
   "cell_type": "code",
   "execution_count": 1,
   "id": "7dd0915e-ccce-4f8f-9889-4326ba255884",
   "metadata": {},
   "outputs": [
    {
     "name": "stdout",
     "output_type": "stream",
     "text": [
      "set()\n"
     ]
    },
    {
     "data": {
      "text/plain": [
       "set"
      ]
     },
     "execution_count": 1,
     "metadata": {},
     "output_type": "execute_result"
    }
   ],
   "source": [
    "# Defining an empty set\n",
    "set_var = set()\n",
    "print(set_var)\n",
    "type(set_var)"
   ]
  },
  {
   "cell_type": "code",
   "execution_count": 4,
   "id": "fca63aac-0b46-42ac-99b1-ba4a773d8431",
   "metadata": {},
   "outputs": [
    {
     "name": "stdout",
     "output_type": "stream",
     "text": [
      "{1, 2, 3, 4}\n"
     ]
    }
   ],
   "source": [
    "set_var = {1,2,3,4,2,3}\n",
    "print(set_var)"
   ]
  },
  {
   "cell_type": "code",
   "execution_count": 5,
   "id": "76092995-10a5-43a8-b6cd-c8f91fe460d8",
   "metadata": {},
   "outputs": [
    {
     "data": {
      "text/plain": [
       "{1, 2, 3, 4}"
      ]
     },
     "execution_count": 5,
     "metadata": {},
     "output_type": "execute_result"
    }
   ],
   "source": [
    "set_var"
   ]
  },
  {
   "cell_type": "code",
   "execution_count": 7,
   "id": "47871660-7114-4de1-b4ba-cbedc33b5555",
   "metadata": {},
   "outputs": [
    {
     "name": "stdout",
     "output_type": "stream",
     "text": [
      "{1, 2, 3, 4, 5}\n"
     ]
    }
   ],
   "source": [
    "# inbuilt function in set\n",
    "set_var.add(5)\n",
    "print(set_var)"
   ]
  },
  {
   "cell_type": "code",
   "execution_count": 8,
   "id": "851d5bd8-d39e-4b90-bdda-f90d5d96d17b",
   "metadata": {},
   "outputs": [],
   "source": [
    "set1 = {\"Ayushi\", \"Sweksha\", \"Palak\"}\n",
    "set2 = {\"Ayushi\",\"Anand\",\"Tauqueer\"}"
   ]
  },
  {
   "cell_type": "code",
   "execution_count": 9,
   "id": "5c485746-e327-43d2-8e40-ea0f3fa1b023",
   "metadata": {},
   "outputs": [
    {
     "data": {
      "text/plain": [
       "{'Anand', 'Tauqueer'}"
      ]
     },
     "execution_count": 9,
     "metadata": {},
     "output_type": "execute_result"
    }
   ],
   "source": [
    "# difference\n",
    "set2.difference(set1)"
   ]
  },
  {
   "cell_type": "code",
   "execution_count": 10,
   "id": "30845528-f646-42bf-8195-9c2a2363e004",
   "metadata": {},
   "outputs": [
    {
     "name": "stdout",
     "output_type": "stream",
     "text": [
      "{'Ayushi', 'Anand', 'Tauqueer'}\n",
      "{'Anand', 'Tauqueer'}\n"
     ]
    }
   ],
   "source": [
    "print(set2)\n",
    "# difference update\n",
    "set2.difference_update(set1)\n",
    "print(set2)"
   ]
  },
  {
   "cell_type": "markdown",
   "id": "64b2858c-9f50-4d29-a269-726b637a9add",
   "metadata": {},
   "source": [
    "## Dictionaries\n",
    "A dictionary is a collection which is unordered, changeable and indexed. In python dictionaries are written with curly brackets, and they have keys and values."
   ]
  },
  {
   "cell_type": "code",
   "execution_count": 11,
   "id": "c29fa645-7dd1-4436-8193-d3862e7647c4",
   "metadata": {},
   "outputs": [
    {
     "data": {
      "text/plain": [
       "dict"
      ]
     },
     "execution_count": 11,
     "metadata": {},
     "output_type": "execute_result"
    }
   ],
   "source": [
    "dic = {}\n",
    "type(dic)"
   ]
  },
  {
   "cell_type": "code",
   "execution_count": 14,
   "id": "6caab969-0593-4ed3-abbf-db84a58904a5",
   "metadata": {},
   "outputs": [
    {
     "data": {
      "text/plain": [
       "dict"
      ]
     },
     "execution_count": 14,
     "metadata": {},
     "output_type": "execute_result"
    }
   ],
   "source": [
    "dic = dict()\n",
    "type(dic)"
   ]
  },
  {
   "cell_type": "code",
   "execution_count": 12,
   "id": "fffeacf8-1182-46f2-bb3e-f0a47808ebe0",
   "metadata": {},
   "outputs": [],
   "source": [
    "my_dict = {\"Sub1\":\"PHP\",\"Sub2\":\"Laravel\",\"Sub3\":\"Maths\"}"
   ]
  },
  {
   "cell_type": "code",
   "execution_count": 13,
   "id": "bbc3c974-424c-4215-9f05-4be6a63a7d0a",
   "metadata": {},
   "outputs": [
    {
     "data": {
      "text/plain": [
       "dict"
      ]
     },
     "execution_count": 13,
     "metadata": {},
     "output_type": "execute_result"
    }
   ],
   "source": [
    "type(my_dict)"
   ]
  },
  {
   "cell_type": "code",
   "execution_count": 16,
   "id": "a540a304-e0b2-4f59-b93a-8749dd5007fd",
   "metadata": {},
   "outputs": [
    {
     "data": {
      "text/plain": [
       "'Laravel'"
      ]
     },
     "execution_count": 16,
     "metadata": {},
     "output_type": "execute_result"
    }
   ],
   "source": [
    "# accessing the item value based on keys\n",
    "my_dict['Sub2']"
   ]
  },
  {
   "cell_type": "code",
   "execution_count": 17,
   "id": "1c0ee103-89ae-49fc-ac05-9e06d14e0c39",
   "metadata": {},
   "outputs": [
    {
     "name": "stdout",
     "output_type": "stream",
     "text": [
      "Sub1\n",
      "Sub2\n",
      "Sub3\n"
     ]
    }
   ],
   "source": [
    "# loop throughout the dictionaries keys\n",
    "for x in my_dict:\n",
    "    print(x)"
   ]
  },
  {
   "cell_type": "code",
   "execution_count": 19,
   "id": "9fc841ae-493d-4263-8956-af819609a97f",
   "metadata": {},
   "outputs": [
    {
     "name": "stdout",
     "output_type": "stream",
     "text": [
      "PHP\n",
      "Laravel\n",
      "Maths\n"
     ]
    }
   ],
   "source": [
    "# loop throughout the dictionaries values\n",
    "for x in my_dict.values():\n",
    "    print(x)"
   ]
  },
  {
   "cell_type": "code",
   "execution_count": 20,
   "id": "11b44252-72f5-4f56-a648-904b17802c9e",
   "metadata": {},
   "outputs": [
    {
     "name": "stdout",
     "output_type": "stream",
     "text": [
      "('Sub1', 'PHP')\n",
      "('Sub2', 'Laravel')\n",
      "('Sub3', 'Maths')\n"
     ]
    }
   ],
   "source": [
    "# Loop throughout the dictionaries keys and values\n",
    "for x in my_dict.items():\n",
    "    print(x)"
   ]
  },
  {
   "cell_type": "code",
   "execution_count": 21,
   "id": "b1105745-2ec5-4573-b4c2-2c274bef08d6",
   "metadata": {},
   "outputs": [
    {
     "name": "stdout",
     "output_type": "stream",
     "text": [
      "{'Sub1': 'PHP', 'Sub2': 'Laravel', 'Sub3': 'Maths', 'Sub4': 'Python'}\n"
     ]
    }
   ],
   "source": [
    "# adding items in dictionaries\n",
    "my_dict['Sub4'] = 'Python'\n",
    "print(my_dict)"
   ]
  },
  {
   "cell_type": "markdown",
   "id": "0bd48cbe-c7fa-45d6-a4ad-4210c260cac8",
   "metadata": {},
   "source": [
    "## Nested Dictionary"
   ]
  },
  {
   "cell_type": "code",
   "execution_count": 1,
   "id": "fd20a32e-4188-4212-9d08-52594a728bbc",
   "metadata": {},
   "outputs": [
    {
     "name": "stdout",
     "output_type": "stream",
     "text": [
      "{'sub1': {'PHP': 92}, 'sub2': {'Laravel': 85}, 'sub3': {'Maths': 98}}\n"
     ]
    }
   ],
   "source": [
    "sub1_marks = {'PHP':92}\n",
    "sub2_marks = {'Laravel': 85}\n",
    "sub3_marks = {'Maths': 98}\n",
    "sub = {'sub1':sub1_marks,'sub2':sub2_marks,'sub3':sub3_marks}\n",
    "print(sub)"
   ]
  },
  {
   "cell_type": "code",
   "execution_count": 2,
   "id": "02a9760c-40a2-47ff-b1e9-89d06738418f",
   "metadata": {},
   "outputs": [
    {
     "name": "stdout",
     "output_type": "stream",
     "text": [
      "{'Laravel': 85}\n",
      "85\n"
     ]
    }
   ],
   "source": [
    "# accessing the items in the dictionary\n",
    "print(sub['sub2'])\n",
    "print(sub['sub2']['Laravel'])"
   ]
  },
  {
   "cell_type": "markdown",
   "id": "3a79f67d-0b7d-491a-97b1-47e66b3bf7f9",
   "metadata": {},
   "source": [
    "## Tuples\n",
    "Tuple is immutable."
   ]
  },
  {
   "cell_type": "code",
   "execution_count": 3,
   "id": "85398165-9499-4400-b2d6-27dd513d83f8",
   "metadata": {},
   "outputs": [
    {
     "data": {
      "text/plain": [
       "tuple"
      ]
     },
     "execution_count": 3,
     "metadata": {},
     "output_type": "execute_result"
    }
   ],
   "source": [
    "# create an empty tuples\n",
    "my_tuple = tuple()\n",
    "type(my_tuple)"
   ]
  },
  {
   "cell_type": "code",
   "execution_count": 4,
   "id": "cdecc08a-7561-465f-9ea8-7ce51ec4d6d8",
   "metadata": {},
   "outputs": [],
   "source": [
    "my_tuple = (\"Ayushi\",\"Anand\",\"Palak\")"
   ]
  },
  {
   "cell_type": "code",
   "execution_count": 5,
   "id": "3b9cc2c8-13ea-4105-98d0-d6c7fc8bdaf9",
   "metadata": {},
   "outputs": [
    {
     "data": {
      "text/plain": [
       "'Ayushi'"
      ]
     },
     "execution_count": 5,
     "metadata": {},
     "output_type": "execute_result"
    }
   ],
   "source": [
    "my_tuple[0]"
   ]
  },
  {
   "cell_type": "code",
   "execution_count": null,
   "id": "85d3e47f-0fb2-4070-bd71-e6e48b81cb2b",
   "metadata": {},
   "outputs": [],
   "source": []
  }
 ],
 "metadata": {
  "kernelspec": {
   "display_name": "Python 3 (ipykernel)",
   "language": "python",
   "name": "python3"
  },
  "language_info": {
   "codemirror_mode": {
    "name": "ipython",
    "version": 3
   },
   "file_extension": ".py",
   "mimetype": "text/x-python",
   "name": "python",
   "nbconvert_exporter": "python",
   "pygments_lexer": "ipython3",
   "version": "3.12.7"
  }
 },
 "nbformat": 4,
 "nbformat_minor": 5
}
